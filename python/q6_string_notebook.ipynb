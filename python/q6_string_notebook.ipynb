{
 "cells": [
  {
   "cell_type": "code",
   "execution_count": 2,
   "metadata": {
    "collapsed": true
   },
   "outputs": [],
   "source": [
    "#1\n",
    "def donuts(count):\n",
    "    if count < 10:\n",
    "        print('Donut number count:' + str(count))\n",
    "    else:\n",
    "        print('Donut number count: many')\n",
    "    return"
   ]
  },
  {
   "cell_type": "code",
   "execution_count": 3,
   "metadata": {
    "collapsed": false
   },
   "outputs": [
    {
     "name": "stdout",
     "output_type": "stream",
     "text": [
      "Donut number count: many\n"
     ]
    }
   ],
   "source": [
    "donuts(50)"
   ]
  },
  {
   "cell_type": "code",
   "execution_count": 11,
   "metadata": {
    "collapsed": true
   },
   "outputs": [],
   "source": [
    "#2\n",
    "def both_ends(s):\n",
    "    if len(s) > 2:\n",
    "        return s[:2] + s[-2:]\n",
    "    else:\n",
    "        return ' '"
   ]
  },
  {
   "cell_type": "code",
   "execution_count": 13,
   "metadata": {
    "collapsed": false
   },
   "outputs": [
    {
     "data": {
      "text/plain": [
       "' '"
      ]
     },
     "execution_count": 13,
     "metadata": {},
     "output_type": "execute_result"
    }
   ],
   "source": [
    "s = 'ab'\n",
    "both_ends(s)"
   ]
  },
  {
   "cell_type": "code",
   "execution_count": 36,
   "metadata": {
    "collapsed": false
   },
   "outputs": [],
   "source": [
    "#3\n",
    "def fix_start(s):\n",
    "    ss = s[0]\n",
    "    for i in s[1:]:\n",
    "        ss += '*' if i == s[0] else i\n",
    "    return ss"
   ]
  },
  {
   "cell_type": "code",
   "execution_count": 38,
   "metadata": {
    "collapsed": false
   },
   "outputs": [
    {
     "data": {
      "text/plain": [
       "'goo*le'"
      ]
     },
     "execution_count": 38,
     "metadata": {},
     "output_type": "execute_result"
    }
   ],
   "source": [
    "fix_start('google')"
   ]
  },
  {
   "cell_type": "code",
   "execution_count": 31,
   "metadata": {
    "collapsed": true
   },
   "outputs": [],
   "source": [
    "#4\n",
    "def mix_up(a, b):\n",
    "    return b[:2] + a[2:] + ' ' + a[:2] + b[2:]"
   ]
  },
  {
   "cell_type": "code",
   "execution_count": 33,
   "metadata": {
    "collapsed": false
   },
   "outputs": [
    {
     "data": {
      "text/plain": [
       "'spash gnort'"
      ]
     },
     "execution_count": 33,
     "metadata": {},
     "output_type": "execute_result"
    }
   ],
   "source": [
    "a = 'gnash'\n",
    "b = 'sport'\n",
    "mix_up(a, b)"
   ]
  },
  {
   "cell_type": "code",
   "execution_count": 51,
   "metadata": {
    "collapsed": false
   },
   "outputs": [],
   "source": [
    "#5\n",
    "def verbing(s):\n",
    "    if len(s) >= 3:\n",
    "        if s[-3:] == 'ing': ss = s + 'ly'\n",
    "        else: ss = s + 'ing'\n",
    "    else: ss = s\n",
    "    return ss   "
   ]
  },
  {
   "cell_type": "code",
   "execution_count": 56,
   "metadata": {
    "collapsed": false
   },
   "outputs": [
    {
     "data": {
      "text/plain": [
       "'hailing'"
      ]
     },
     "execution_count": 56,
     "metadata": {},
     "output_type": "execute_result"
    }
   ],
   "source": [
    "verbing('hail')"
   ]
  },
  {
   "cell_type": "code",
   "execution_count": 69,
   "metadata": {
    "collapsed": true
   },
   "outputs": [],
   "source": [
    "#6\n",
    "def not_bad(s):\n",
    "    s_not = 'not'\n",
    "    s_bad = 'bad'\n",
    "    not_id = s.find(s_not)\n",
    "    bad_id = s.find(s_bad)\n",
    "    if bad_id > not_id:\n",
    "        return s[:not_id] + 'good'\n",
    "    else:\n",
    "        return s"
   ]
  },
  {
   "cell_type": "code",
   "execution_count": 68,
   "metadata": {
    "collapsed": false
   },
   "outputs": [
    {
     "data": {
      "text/plain": [
       "'This movie is good'"
      ]
     },
     "execution_count": 68,
     "metadata": {},
     "output_type": "execute_result"
    }
   ],
   "source": [
    "s = 'This movie is not that bad!'\n",
    "not_bad(s)"
   ]
  },
  {
   "cell_type": "code",
   "execution_count": 91,
   "metadata": {
    "collapsed": false
   },
   "outputs": [],
   "source": [
    "#7\n",
    "def front_back(a, b):\n",
    "    if len(a)%2 == 0:\n",
    "        a_front = a[:int(len(a)/2)]\n",
    "        a_back = a[int(len(a)/2):]\n",
    "    if len(a)%2 != 0:\n",
    "        a_front = a[:int((len(a)/2)+1)]\n",
    "        a_back = a[(int(len(a)/2))+1:]\n",
    "    if len(b)%2 != 0:\n",
    "        b_front = b[:int((len(b)/2)+1)]\n",
    "        b_back = b[int((len(b)/2)+1):]\n",
    "    if len(b)%2 == 0:\n",
    "        b_front = b[:int(len(b)/2)]\n",
    "        b_back = b[int(len(b)/2):]\n",
    "    return a_front + b_front + a_back + b_back"
   ]
  },
  {
   "cell_type": "code",
   "execution_count": 87,
   "metadata": {
    "collapsed": false
   },
   "outputs": [
    {
     "data": {
      "text/plain": [
       "3.0"
      ]
     },
     "execution_count": 87,
     "metadata": {},
     "output_type": "execute_result"
    }
   ],
   "source": [
    "a = 'abcdef'\n",
    "b = 'adsvasd'\n",
    "front_back(ab)"
   ]
  },
  {
   "cell_type": "code",
   "execution_count": 83,
   "metadata": {
    "collapsed": false
   },
   "outputs": [],
   "source": [
    "def tryy(a, b):\n",
    "    if len(a)%2 != 0:\n",
    "        a_front = a[:(len(a)/2)+1] \n",
    "        a_back = a[(len(a)/2)+1:] \n",
    "    if len(a)%2 == 0:\n",
    "        a_front = a[:len(a)/2]\n",
    "        a_back = a[len(a)/2:]\n",
    "    if len(b)%2 != 0:\n",
    "        b_front = b[:(len(b)/2)+1]\n",
    "        b_back = b[(len(b)/2)+1:]\n",
    "    if len(b)%2 == 0:\n",
    "        b_front = b[:len(b)/2]\n",
    "        b_back = b[len(b)/2:]\n",
    "    return a_front + b_front + a_back + b_back"
   ]
  },
  {
   "cell_type": "code",
   "execution_count": null,
   "metadata": {
    "collapsed": true
   },
   "outputs": [],
   "source": []
  }
 ],
 "metadata": {
  "kernelspec": {
   "display_name": "Python [default]",
   "language": "python",
   "name": "python3"
  },
  "language_info": {
   "codemirror_mode": {
    "name": "ipython",
    "version": 3
   },
   "file_extension": ".py",
   "mimetype": "text/x-python",
   "name": "python",
   "nbconvert_exporter": "python",
   "pygments_lexer": "ipython3",
   "version": "3.5.3"
  }
 },
 "nbformat": 4,
 "nbformat_minor": 2
}
