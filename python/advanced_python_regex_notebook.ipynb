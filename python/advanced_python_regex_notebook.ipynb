{
 "cells": [
  {
   "cell_type": "markdown",
   "metadata": {},
   "source": [
    "# Part I"
   ]
  },
  {
   "cell_type": "code",
   "execution_count": 104,
   "metadata": {
    "collapsed": true
   },
   "outputs": [],
   "source": [
    "import csv\n",
    "import re\n",
    "from collections import Counter"
   ]
  },
  {
   "cell_type": "code",
   "execution_count": 105,
   "metadata": {
    "collapsed": false
   },
   "outputs": [],
   "source": [
    "# regular expression\n",
    "f = list(csv.reader(open('faculty.csv', 'r')))"
   ]
  },
  {
   "cell_type": "code",
   "execution_count": 98,
   "metadata": {
    "collapsed": false
   },
   "outputs": [
    {
     "name": "stdout",
     "output_type": "stream",
     "text": [
      "Number of Phd: 31\n",
      "Number of ScD: 6\n",
      "Number of MPH: 2\n",
      "Number of MS: 2\n",
      "Number of B.S.Ed: 1\n",
      "Number of JD: 1\n",
      "Number of MA: 1\n",
      "Number of MD: 1\n"
     ]
    }
   ],
   "source": [
    "#1\n",
    "#initialize all the degrees found in f\n",
    "Phd = 0\n",
    "ScD = 0\n",
    "MPH = 0\n",
    "MS = 0\n",
    "BSEd = 0\n",
    "JD = 0\n",
    "MA = 0\n",
    "MD = 0\n",
    "\n",
    "for degs in f:\n",
    "    if re.search('PhD|Ph.D.|Ph.D', degs[1].strip()) != None:\n",
    "        Phd += 1\n",
    "    if re.search('Sc.D.|ScD', degs[1].strip()) != None:\n",
    "        ScD += 1\n",
    "    if re.search('MPH', degs[1].strip()) != None:\n",
    "        MPH += 1\n",
    "    if re.search('M.S.|MS', degs[1].strip()) != None:\n",
    "        MS += 1\n",
    "    if re.search('B.S.Ed.', degs[1].strip()) != None:\n",
    "        BSEd += 1\n",
    "    if re.search('JD', degs[1].strip()) != None:\n",
    "        JD += 1\n",
    "    if re.search('MA', degs[1].strip()) != None:\n",
    "        MA += 1\n",
    "    if re.search('MD', degs[1].strip()) != None:\n",
    "        MD += 1\n",
    "print('Number of Phd: ' + str(Phd))\n",
    "print('Number of ScD: ' + str(ScD))\n",
    "print('Number of MPH: ' + str(MPH))\n",
    "print('Number of MS: ' + str(MS))\n",
    "print('Number of B.S.Ed: ' + str(BSEd))\n",
    "print('Number of JD: ' + str(JD))\n",
    "print('Number of MA: ' + str(MA))\n",
    "print('Number of MD: ' + str(MD))"
   ]
  },
  {
   "cell_type": "code",
   "execution_count": 99,
   "metadata": {
    "collapsed": false
   },
   "outputs": [
    {
     "name": "stdout",
     "output_type": "stream",
     "text": [
      "Number of Professor of Biostatistics: 13\n",
      "Number of Associate Professor of Biostatistics: 12\n",
      "Number of Assistant Professor of Biostatistics: 12\n"
     ]
    }
   ],
   "source": [
    "#2\n",
    "Prof = 0\n",
    "Asso = 0\n",
    "Assi = 0\n",
    "\n",
    "for title in f:\n",
    "    if re.search('^Prof', title[2].strip()) != None:\n",
    "        Prof += 1\n",
    "    if re.search('^Asso', title[2].strip()) != None:\n",
    "        Asso += 1\n",
    "    if re.search('^Assi', title[2].strip()) != None:\n",
    "        Assi += 1\n",
    "print('Number of Professor of Biostatistics: ' + str(Prof))\n",
    "print('Number of Associate Professor of Biostatistics: ' + str(Asso))\n",
    "print('Number of Assistant Professor of Biostatistics: ' + str(Assi))"
   ]
  },
  {
   "cell_type": "code",
   "execution_count": 100,
   "metadata": {
    "collapsed": false
   },
   "outputs": [
    {
     "name": "stdout",
     "output_type": "stream",
     "text": [
      "['bellamys@mail.med.upenn.edu', 'warren@upenn.edu', 'bryanma@upenn.edu', 'jinboche@upenn.edu', 'sellenbe@upenn.edu', 'jellenbe@mail.med.upenn.edu', 'ruifeng@upenn.edu', 'bcfrench@mail.med.upenn.edu', 'pgimotty@upenn.edu', 'wguo@mail.med.upenn.edu', 'hsu9@mail.med.upenn.edu', 'rhubb@mail.med.upenn.edu', 'whwang@mail.med.upenn.edu', 'mjoffe@mail.med.upenn.edu', 'jrlandis@mail.med.upenn.edu', 'liy3@email.chop.edu', 'mingyao@mail.med.upenn.edu', 'hongzhe@upenn.edu', 'rlocalio@upenn.edu', 'nanditam@mail.med.upenn.edu', 'knashawn@mail.med.upenn.edu', 'propert@mail.med.upenn.edu', 'mputt@mail.med.upenn.edu', 'sratclif@upenn.edu', 'michross@upenn.edu', 'jaroy@mail.med.upenn.edu', 'msammel@cceb.med.upenn.edu', 'shawp@upenn.edu', 'rshi@mail.med.upenn.edu', 'hshou@mail.med.upenn.edu', 'jshults@mail.med.upenn.edu', 'alisaste@mail.med.upenn.edu', 'atroxel@mail.med.upenn.edu', 'rxiao@mail.med.upenn.edu', 'sxie@mail.med.upenn.edu', 'dxie@upenn.edu', 'weiyang@mail.med.upenn.edu']\n"
     ]
    }
   ],
   "source": [
    "#3\n",
    "email_list = []\n",
    "for email in f:\n",
    "    email_list.append(email[3].strip())\n",
    "email_list = email_list[1:]\n",
    "print(email_list)"
   ]
  },
  {
   "cell_type": "code",
   "execution_count": 101,
   "metadata": {
    "collapsed": false
   },
   "outputs": [
    {
     "name": "stdout",
     "output_type": "stream",
     "text": [
      "{'cceb.med.upenn.edu', 'mail.med.upenn.edu', 'email.chop.edu', 'upenn.edu'}\n"
     ]
    }
   ],
   "source": [
    "#4\n",
    "domain_list = []\n",
    "for item in email_list:\n",
    "    domain_list.append(item.split('@'))\n",
    "\n",
    "unique_list = []\n",
    "domain_list = domain_list[1:]\n",
    "for domain in domain_list:\n",
    "    unique_list.append(domain[1])\n",
    "print(set(unique_list))"
   ]
  },
  {
   "cell_type": "markdown",
   "metadata": {},
   "source": [
    "***"
   ]
  },
  {
   "cell_type": "markdown",
   "metadata": {},
   "source": [
    "# Part II"
   ]
  },
  {
   "cell_type": "code",
   "execution_count": 102,
   "metadata": {
    "collapsed": false
   },
   "outputs": [],
   "source": [
    "email_list = []\n",
    "for email in f:\n",
    "    email_list.append(email[3].strip())\n",
    "\n",
    "email_list = email_list[1:]\n",
    "    \n",
    "with open('email_list_output.csv', 'w') as f:\n",
    "    writer = csv.writer(f, delimiter = ',',  lineterminator = '\\r\\n')\n",
    "    for email in email_list:\n",
    "        writer.writerow([email])"
   ]
  },
  {
   "cell_type": "markdown",
   "metadata": {},
   "source": [
    "***"
   ]
  },
  {
   "cell_type": "markdown",
   "metadata": {},
   "source": [
    "# Part III"
   ]
  },
  {
   "cell_type": "code",
   "execution_count": 215,
   "metadata": {
    "collapsed": false
   },
   "outputs": [],
   "source": [
    "#Q6\n",
    "name_list = [x[0] for x in f][1:]\n",
    "info_list = [y[1:] for y in f][1:]\n",
    "\n",
    "lname_list = []\n",
    "fname_list = []\n",
    "for name in name_list:\n",
    "    lname_list.append(name.split(' ')[-1])\n",
    "    fname_list.append(name.split(' ')[:-1])\n",
    "\n",
    "faculty_dict = {}\n",
    "    "
   ]
  },
  {
   "cell_type": "code",
   "execution_count": null,
   "metadata": {
    "collapsed": false
   },
   "outputs": [],
   "source": []
  },
  {
   "cell_type": "code",
   "execution_count": null,
   "metadata": {
    "collapsed": false
   },
   "outputs": [],
   "source": []
  },
  {
   "cell_type": "code",
   "execution_count": null,
   "metadata": {
    "collapsed": true
   },
   "outputs": [],
   "source": []
  }
 ],
 "metadata": {
  "anaconda-cloud": {},
  "kernelspec": {
   "display_name": "Python [default]",
   "language": "python",
   "name": "python3"
  },
  "language_info": {
   "codemirror_mode": {
    "name": "ipython",
    "version": 3
   },
   "file_extension": ".py",
   "mimetype": "text/x-python",
   "name": "python",
   "nbconvert_exporter": "python",
   "pygments_lexer": "ipython3",
   "version": "3.5.3"
  }
 },
 "nbformat": 4,
 "nbformat_minor": 2
}
