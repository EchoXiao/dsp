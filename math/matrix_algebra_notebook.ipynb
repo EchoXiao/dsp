{
 "cells": [
  {
   "cell_type": "code",
   "execution_count": 36,
   "metadata": {
    "collapsed": true
   },
   "outputs": [],
   "source": [
    "import numpy as np\n",
    "from numpy import linalg as LA"
   ]
  },
  {
   "cell_type": "code",
   "execution_count": 8,
   "metadata": {
    "collapsed": false
   },
   "outputs": [],
   "source": [
    "A = np.array([[1, 2, 3], [2, 7 ,4]])\n",
    "B = np.array([[1, -1], [0, 1]])\n",
    "C = np.array([[5, -1], [9, 1], [6, 0]])\n",
    "D = np.array([[3, -2, -1], [1, 2, 3]])\n",
    "u = np.array([[6, 2, -3, 5]])\n",
    "v = np.array([[3, 5, -1, 4]])\n",
    "w = np.array([[1], [8], [0], [5]])"
   ]
  },
  {
   "cell_type": "code",
   "execution_count": 14,
   "metadata": {
    "collapsed": false
   },
   "outputs": [
    {
     "name": "stdout",
     "output_type": "stream",
     "text": [
      "Dimension of A is: 2 by 3\n",
      "Dimension of B is: 2 by 2\n",
      "Dimension of C is: 3 by 2\n",
      "Dimension of D is: 2 by 3\n",
      "Dimension of u is: 1 by 4\n",
      "Dimension of v is: 1 by 4\n",
      "Dimension of w is: 4 by 1\n"
     ]
    }
   ],
   "source": [
    "#Q1\n",
    "print('Dimension of A is: %s by %s' % (A.shape[0], A.shape[1]))\n",
    "print('Dimension of B is: %s by %s' % (B.shape[0], B.shape[1]))\n",
    "print('Dimension of C is: %s by %s' % (C.shape[0], C.shape[1]))\n",
    "print('Dimension of D is: %s by %s' % (D.shape[0], D.shape[1]))\n",
    "print('Dimension of u is: %s by %s' % (u.shape[0], u.shape[1]))\n",
    "print('Dimension of v is: %s by %s' % (v.shape[0], v.shape[1]))\n",
    "print('Dimension of w is: %s by %s' % (w.shape[0], w.shape[1]))"
   ]
  },
  {
   "cell_type": "code",
   "execution_count": 37,
   "metadata": {
    "collapsed": false
   },
   "outputs": [
    {
     "name": "stdout",
     "output_type": "stream",
     "text": [
      "u+v is: [[ 9  7 -4  9]]\n",
      "u-v is: [[ 3 -3 -2  1]]\n",
      "alpha*u is: [[ 36  12 -18  30]]\n",
      "u*v is: [[18 10  3 20]]\n",
      "unit vector u is: 8.60232526704\n"
     ]
    }
   ],
   "source": [
    "#Q2\n",
    "print('u+v is:', sum(u, v))\n",
    "print('u-v is:', u - v)\n",
    "print('alpha*u is:', 6 * u)\n",
    "print('u*v is:', u * v)\n",
    "print('unit vector u is:', LA.norm(u))"
   ]
  },
  {
   "cell_type": "code",
   "execution_count": 42,
   "metadata": {
    "collapsed": false
   },
   "outputs": [
    {
     "name": "stdout",
     "output_type": "stream",
     "text": [
      "A + C is not defined.\n",
      "A - C^T is:  [[-4 -7 -3]\n",
      " [ 3  6  4]]\n",
      "C^T + 3D is: [[14  3  3]\n",
      " [ 2  7  9]]\n",
      "B*A is: [[-1 -5 -1]\n",
      " [ 2  7  4]]\n",
      "B*A.T is not defined\n"
     ]
    }
   ],
   "source": [
    "#Q3\n",
    "print('A + C is not defined.')\n",
    "print('A - C^T is: ', A - C.T)\n",
    "print('C^T + 3D is:', C.T + 3*D)\n",
    "print('B*A is:', np.dot(B, A))\n",
    "print('B*A.T is not defined')"
   ]
  },
  {
   "cell_type": "code",
   "execution_count": 46,
   "metadata": {
    "collapsed": false
   },
   "outputs": [
    {
     "name": "stdout",
     "output_type": "stream",
     "text": [
      "B*C is not defined.\n",
      "C*B is: [[ 5 -6]\n",
      " [ 9 -8]\n",
      " [ 6 -6]]\n",
      "B^4 is: [[ 1 -4]\n",
      " [ 0  1]]\n",
      "A*A^T is: [[14 28]\n",
      " [28 69]]\n",
      "D^T*D is: [[10 -4  0]\n",
      " [-4  8  8]\n",
      " [ 0  8 10]]\n"
     ]
    }
   ],
   "source": [
    "#Optional\n",
    "print('B*C is not defined.')\n",
    "print('C*B is:', np.dot(C, B))\n",
    "print('B^4 is:', np.dot(B, np.dot(B, (np.dot(B, B)))))\n",
    "print('A*A^T is:', np.dot(A, A.T))\n",
    "print('D^T*D is:', np.dot(D.T, D))"
   ]
  }
 ],
 "metadata": {
  "kernelspec": {
   "display_name": "Python [default]",
   "language": "python",
   "name": "python3"
  },
  "language_info": {
   "codemirror_mode": {
    "name": "ipython",
    "version": 3
   },
   "file_extension": ".py",
   "mimetype": "text/x-python",
   "name": "python",
   "nbconvert_exporter": "python",
   "pygments_lexer": "ipython3",
   "version": "3.5.3"
  }
 },
 "nbformat": 4,
 "nbformat_minor": 2
}
